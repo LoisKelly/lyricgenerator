{
 "cells": [
  {
   "cell_type": "code",
   "execution_count": 4,
   "metadata": {},
   "outputs": [],
   "source": [
    "import markovify\n",
    "import numpy as np\n",
    "import pandas as pd\n"
   ]
  },
  {
   "cell_type": "markdown",
   "metadata": {},
   "source": [
    "MARKOV CHAINS\n",
    "Code from NLP Week 5\n"
   ]
  },
  {
   "cell_type": "markdown",
   "metadata": {},
   "source": [
    "Here I load in my text file. When collecting results I loaded the file with the just the lyrics first and then the bigger data set second. "
   ]
  },
  {
   "cell_type": "code",
   "execution_count": 1,
   "metadata": {},
   "outputs": [],
   "source": [
    "def load_single_text_file(path):\n",
    "    with open(path, 'r', encoding='utf-8') as f:\n",
    "        corpus = f.read()\n",
    "        return corpus"
   ]
  },
  {
   "cell_type": "code",
   "execution_count": 2,
   "metadata": {},
   "outputs": [],
   "source": [
    "data_path = '/Users/loiskelly/Documents/GitHub/LoisNLPProject/all_data/lyrics_cleaned and extra data.txt'\n",
    "corpus = load_single_text_file(data_path)"
   ]
  },
  {
   "cell_type": "markdown",
   "metadata": {},
   "source": [
    "Next I run the marvok chain code"
   ]
  },
  {
   "cell_type": "code",
   "execution_count": 5,
   "metadata": {},
   "outputs": [
    {
     "name": "stdout",
     "output_type": "stream",
     "text": [
      "All you want For I say that makes nighttime bright Havent I will follow If you But you can I gotta do you in the memory of Clearness and theres nothing remains visible and I do?\n",
      "Oh I do?\n",
      "None\n",
      "Was waiting here and enjoy the natural power of that its the sun shines down fast You tell her?\n",
      "Wild honey and miserable Do not cling to your mother should I wanna be a hold your lover baby cry baby I want our love everybody the visions They leave you down Man can I want to me one And the rent?\n",
      "Did you begin to thank you will plainly see the only a play around In deinen Armen bin ich glücklich sein Slow down How can gain the girls Im going to take a fearful state will Who gain the time to dance with me?\n",
      "Ive got to be glad I love me mine Noones frightened of Rainbow Light Remember that Im happy inside a way Many many times of the eyes and I have known better free Go with me?\n",
      "Cant you by the tear standing here comes the way things we lose that my arms And hope she was way you need to like me mine Imeme mine Good Day Sunshine Good night since its true pride comes before goodbye and get you want somebody to break of leisure?\n"
     ]
    }
   ],
   "source": [
    "text_model = markovify.Text(corpus, state_size=1)\n",
    "\n",
    "for i in range(8):\n",
    "    print(text_model.make_sentence(max_words = 50))"
   ]
  }
 ],
 "metadata": {
  "kernelspec": {
   "display_name": "nlp",
   "language": "python",
   "name": "python3"
  },
  "language_info": {
   "codemirror_mode": {
    "name": "ipython",
    "version": 3
   },
   "file_extension": ".py",
   "mimetype": "text/x-python",
   "name": "python",
   "nbconvert_exporter": "python",
   "pygments_lexer": "ipython3",
   "version": "3.9.18"
  }
 },
 "nbformat": 4,
 "nbformat_minor": 2
}
