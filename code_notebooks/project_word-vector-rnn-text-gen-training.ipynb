{
 "cells": [
  {
   "cell_type": "markdown",
   "metadata": {},
   "source": [
    "# Training the text generator with WordVec-RNN \n",
    "\n",
    "In this notebook I am using the code from NLP Week 8 to train an RNN to model sequence of words vectors. \n"
   ]
  },
  {
   "cell_type": "code",
   "execution_count": null,
   "metadata": {},
   "outputs": [],
   "source": [
    "import os\n",
    "import torch\n",
    "import random\n",
    "\n",
    "import numpy as np\n",
    "import torch.nn as nn\n",
    "import torch.nn.functional as F\n",
    "import torchtext.vocab as vocab\n",
    "\n",
    "from torchtext.data.utils import get_tokenizer\n",
    "from torch.distributions import Categorical"
   ]
  },
  {
   "cell_type": "code",
   "execution_count": null,
   "metadata": {},
   "outputs": [],
   "source": [
    "device = 'cpu'"
   ]
  },
  {
   "cell_type": "markdown",
   "metadata": {},
   "source": [
    "**Setting the hyperparameters:**\n",
    "\n",
    "Whilst working with this notebook I was going back to the below cell to change the Hidden State Size and Number of layers. "
   ]
  },
  {
   "cell_type": "code",
   "execution_count": null,
   "metadata": {},
   "outputs": [],
   "source": [
    "hidden_size = 100   # size of hidden state\n",
    "batch_size = 100    # length of LSTM sequence\n",
    "gen_seq_len = 50    # size of generated text sequence\n",
    "step_len = 200      # number of training samples in each stem\n",
    "num_layers = 3      # number of layers in LSTM layer stack\n",
    "lr = 0.002          # learning rate\n",
    "num_steps = 50     # max number of training steps\n",
    "load_chk = False    # load in pre-trained checkpoint for training\n",
    "save_path = \"/Users/loiskelly/Documents/GitHub/LoisNLPProject/Data - NEW/Beatles Word Vector RNN model 3.pt\"\n",
    "# load_path = \"wordvec_rnn_model.pt\""
   ]
  },
  {
   "cell_type": "markdown",
   "metadata": {},
   "source": [
    "Next I loaded in my singular text file and cleaned it up a bit."
   ]
  },
  {
   "cell_type": "code",
   "execution_count": null,
   "metadata": {},
   "outputs": [],
   "source": [
    "def load_single_text_file(path):\n",
    "    with open(path, 'r', encoding='utf-8') as f:\n",
    "        corpus = f.read()\n",
    "        return corpus\n",
    "    \n",
    "data_path = '/Users/loiskelly/Documents/GitHub/LoisNLPProject/all_data/lyrics_cleaned and extra data.txt'\n",
    "corpus = load_single_text_file(data_path)\n",
    "words = sorted(list(set(corpus.split())))\n",
    "data_size, vocab_size = len(corpus.split()), len(words)"
   ]
  },
  {
   "cell_type": "markdown",
   "metadata": {},
   "source": [
    "***Loading in the  word vectors:***\n",
    "\n",
    "I chose to sitck with the GloVe dictionary. "
   ]
  },
  {
   "cell_type": "code",
   "execution_count": null,
   "metadata": {},
   "outputs": [],
   "source": [
    "word_vectors = vocab.GloVe(name=\"6B\",dim=100) \n",
    "tokenizer = get_tokenizer(\"basic_english\")\n",
    "wordvec_embeddings = nn.Embedding.from_pretrained(word_vectors.vectors)\n",
    "embedding_dim = wordvec_embeddings.weight.shape[1]\n",
    "\n",
    "# Get dictionaries from word_vectors class and \n",
    "# rename to be consistent with previous notebooks\n",
    "word_to_ix = word_vectors.stoi\n",
    "ix_to_word = word_vectors.itos"
   ]
  },
  {
   "cell_type": "markdown",
   "metadata": {},
   "source": [
    "Next getting the list of tokens."
   ]
  },
  {
   "cell_type": "code",
   "execution_count": null,
   "metadata": {},
   "outputs": [],
   "source": [
    "tokens = tokenizer(corpus) \n",
    "print(f'There raw data cosists of {len(tokens)} tokens.')\n",
    "tokens = [token for token in tokens if token in word_to_ix]\n",
    "print(f'There processed data cosists of {len(tokens)} tokens (that exist in the word vector vocab)')\n",
    "data = word_vectors.get_vecs_by_tokens(tokens, lower_case_backup=True)"
   ]
  },
  {
   "cell_type": "markdown",
   "metadata": {},
   "source": [
    "***Masking for data only in the dataset***"
   ]
  },
  {
   "cell_type": "code",
   "execution_count": null,
   "metadata": {},
   "outputs": [],
   "source": [
    "data_vocab = sorted(list(set(tokens)))\n",
    "print(data_vocab)\n",
    "data_indexes = [word_to_ix[word] for word in data_vocab]\n",
    "print(data_indexes)\n",
    "mask_array = np.zeros(len(word_to_ix), dtype=int)\n",
    "mask_array[data_indexes] = 1\n",
    "print(mask_array)\n",
    "mask_array = torch.tensor(mask_array, dtype=torch.int64, device=device)"
   ]
  },
  {
   "cell_type": "markdown",
   "metadata": {},
   "source": [
    "***Defining the network***"
   ]
  },
  {
   "cell_type": "code",
   "execution_count": null,
   "metadata": {},
   "outputs": [],
   "source": [
    "class RNN(nn.Module):\n",
    "    def __init__(self, input_size, output_size, hidden_size, num_layers):\n",
    "        super(RNN, self).__init__()\n",
    "        self.rnn = nn.LSTM(input_size=input_size, hidden_size=hidden_size, num_layers=num_layers)\n",
    "        self.decoder = nn.Linear(hidden_size, output_size)\n",
    "        self.tanh = nn.Tanh()\n",
    "    \n",
    "    def forward(self, input_batch, hidden_state):\n",
    "        output, hidden_state = self.rnn(input_batch, hidden_state)\n",
    "        output = self.decoder(output)\n",
    "        output = self.tanh(output)\n",
    "        return output, (hidden_state[0].detach(), hidden_state[1].detach())"
   ]
  },
  {
   "cell_type": "markdown",
   "metadata": {},
   "source": [
    "***Setting up network and optimiser:***\n",
    "\n",
    "This is from the note books: \n",
    "\n",
    "[PyTorch tensors](https://pytorch.org/docs/stable/tensors.html) have been designed to work in almost exactly the same way as [numpy arrays](https://numpy.org/doc/stable/reference/generated/numpy.array.html)."
   ]
  },
  {
   "cell_type": "code",
   "execution_count": null,
   "metadata": {},
   "outputs": [],
   "source": [
    "# Create list of indexes that can be valid starting points for training\n",
    "index_list = list(range(0, len(data) - step_len - 1))\n",
    "\n",
    "# Conver data to torch tensor\n",
    "data = torch.tensor(data).to(device)\n",
    "data = torch.unsqueeze(data, dim=1)\n",
    "\n",
    "# Create RNN class\n",
    "rnn = RNN(embedding_dim, embedding_dim, hidden_size, num_layers).to(device)\n",
    "\n",
    "# Define loss function and optimiser\n",
    "loss_fn = nn.CosineSimilarity()\n",
    "optimizer = torch.optim.Adam(rnn.parameters(), lr=lr)\n",
    "\n",
    "if load_chk:\n",
    "    checkpoint = torch.load(load_path)\n",
    "    rnn.load_state_dict(checkpoint['state_dict'])"
   ]
  },
  {
   "cell_type": "markdown",
   "metadata": {},
   "source": [
    "***Sample data randomly***"
   ]
  },
  {
   "cell_type": "code",
   "execution_count": null,
   "metadata": {},
   "outputs": [],
   "source": [
    "def get_training_batch_indicies(index_list, batch_size):\n",
    "    # Get a batch of indicies to sample our data from\n",
    "    input_batch_indicies = torch.tensor(np.array(random.sample(index_list, batch_size)))\n",
    "    # Offset indicies for target batch by one\n",
    "    target_batch_indicies = input_batch_indicies + 1\n",
    "    return input_batch_indicies, target_batch_indicies"
   ]
  },
  {
   "cell_type": "markdown",
   "metadata": {},
   "source": [
    "#### Training the network"
   ]
  },
  {
   "cell_type": "code",
   "execution_count": null,
   "metadata": {},
   "outputs": [],
   "source": [
    "# Iterate through the number of steps defined earlier\n",
    "for step in range(1, num_steps):\n",
    "    \n",
    "    running_loss = 0\n",
    "    hidden_state = None\n",
    "    rnn.zero_grad()\n",
    "    train_batch_indicies, target_batch_indicies = get_training_batch_indicies(index_list, batch_size)\n",
    "    # Cycle through for a set number of consecutive iterations in the data\n",
    "    for i in range(step_len):\n",
    "        input_batch = data[train_batch_indicies].squeeze()\n",
    "        target_batch = data[target_batch_indicies].squeeze()\n",
    "    \n",
    "        # Forward pass\n",
    "        # The following code is the same as calling rnn.forward(input_batch, hidden_state)\n",
    "        output, hidden_state = rnn(input_batch, hidden_state)\n",
    "\n",
    "# Following two lines of code are solutions to an error 'RuntimeError: The size of tensor a (400000) must match the size of tensor b (0) at non-singleton dimension 0\n",
    "# written by ChatGTP\n",
    "\n",
    "        # Reshape the output to match the dimensions of word_vectors.vectors\n",
    "        reshaped_output = output[0].unsqueeze(0)  # Add an extra dimension\n",
    "        # Compute distances to all words\n",
    "        dists = torch.norm(word_vectors.vectors - reshaped_output, dim=1) \n",
    "\n",
    "\n",
    "        # Compute loss (we take 1 minus the loss as it is measure similiarity not distance)\n",
    "        loss = 1 - loss_fn(output, target_batch).mean() \n",
    "        running_loss += loss.item() / step_len\n",
    "        # print(f'loss {loss}, running loss {running_loss}')\n",
    "        \n",
    "        # Update weights of neural network\n",
    "        loss.backward()\n",
    "        optimizer.step()\n",
    "        optimizer.zero_grad()\n",
    "\n",
    "        # Increment batch indicies by 1\n",
    "        train_batch_indicies = train_batch_indicies + 1\n",
    "        target_batch_indicies = target_batch_indicies + 1\n",
    "        \n",
    "\n",
    "        \n",
    "    # Print loss\n",
    "    print('\\n'+'-'*75)\n",
    "    print(f\"\\nStep: {step} Loss: {running_loss}\")\n",
    "\n",
    "    # Create a dictionary for saving the model and data mappings\n",
    "    save_dict = {}\n",
    "    # Add the model weight parameters as a dictionary to our save_dict\n",
    "    save_dict['state_dict'] = rnn.state_dict()\n",
    "    # Add the idx_to_char and char_to_idx dicts to our save_dict\n",
    "    save_dict['ix_to_word'] = ix_to_word\n",
    "    save_dict['word_to_ix'] = word_to_ix\n",
    "    # Save the dictionary to a file\n",
    "    torch.save(save_dict, save_path)\n",
    "\n",
    "    # Now lets generate a random generated text sample to print out,\n",
    "    # we will do this without gradient tracking as we are not training\n",
    "    with torch.no_grad():\n",
    "        \n",
    "        # Take a random index and reset the hidden state of the model\n",
    "        rand_index = np.random.randint(data_size-1)\n",
    "        input = data[rand_index : rand_index+1].squeeze().unsqueeze(0)\n",
    "        hidden_state = None\n",
    "        \n",
    "        # Iterate over our sequence length\n",
    "        for i in range(gen_seq_len):\n",
    "            \n",
    "            # Forward pass\n",
    "            output, hidden_state = rnn(input, hidden_state)\n",
    "\n",
    "            # Comput distances to all words\n",
    "            dists = torch.norm(word_vectors.vectors - output[0], dim=1) \n",
    "\n",
    "            # Use softmax to convert to probabilities\n",
    "            probs = F.softmax(1 - dists, dim=0)\n",
    "            # Multiply probabilities by mask to only sample words from dataset\n",
    "            probs = probs * mask_array\n",
    "            # Covert probabilities to probability distribution\n",
    "            prob_dist = Categorical(probs)\n",
    "            # Sample from probability distribution\n",
    "            word_index  = prob_dist.sample()\n",
    "\n",
    "            # Get the next word and print\n",
    "            next_word = ix_to_word[word_index]\n",
    "            print(next_word, end=' ')\n",
    "            \n",
    "            # The word vector for the next word is the next input\n",
    "            input = word_vectors[next_word].unsqueeze(0)\n"
   ]
  }
 ],
 "metadata": {
  "kernelspec": {
   "display_name": "nlp",
   "language": "python",
   "name": "python3"
  },
  "language_info": {
   "codemirror_mode": {
    "name": "ipython",
    "version": 3
   },
   "file_extension": ".py",
   "mimetype": "text/x-python",
   "name": "python",
   "nbconvert_exporter": "python",
   "pygments_lexer": "ipython3",
   "version": "3.9.18"
  }
 },
 "nbformat": 4,
 "nbformat_minor": 2
}
